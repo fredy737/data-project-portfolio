{
 "cells": [
  {
   "cell_type": "markdown",
   "metadata": {
    "collapsed": true
   },
   "source": [
    "# Introduction\n",
    "Let us say we are going to compete on the TV show Jeopardy, and we wish to have an edge. We will be looking at a dataset of previous Jeopardy questions to figure out patterns in the questions that can help us win. \n",
    "\n",
    "We will be looking at a dataset from \"jeopardy.csv\", downloaded from: https://www.reddit.com/r/datasets/comments/1uyd0t/200000_jeopardy_questions_in_a_json_file/"
   ]
  },
  {
   "cell_type": "markdown",
   "metadata": {},
   "source": [
    "# Exploring and Normalizing the Dataset\n",
    "We will first examine the jeopardy dataset, and we will also clean string objects."
   ]
  },
  {
   "cell_type": "code",
   "execution_count": 1,
   "metadata": {},
   "outputs": [
    {
     "data": {
      "text/html": [
       "<div>\n",
       "<style scoped>\n",
       "    .dataframe tbody tr th:only-of-type {\n",
       "        vertical-align: middle;\n",
       "    }\n",
       "\n",
       "    .dataframe tbody tr th {\n",
       "        vertical-align: top;\n",
       "    }\n",
       "\n",
       "    .dataframe thead th {\n",
       "        text-align: right;\n",
       "    }\n",
       "</style>\n",
       "<table border=\"1\" class=\"dataframe\">\n",
       "  <thead>\n",
       "    <tr style=\"text-align: right;\">\n",
       "      <th></th>\n",
       "      <th>Show Number</th>\n",
       "      <th>Air Date</th>\n",
       "      <th>Round</th>\n",
       "      <th>Category</th>\n",
       "      <th>Value</th>\n",
       "      <th>Question</th>\n",
       "      <th>Answer</th>\n",
       "    </tr>\n",
       "  </thead>\n",
       "  <tbody>\n",
       "    <tr>\n",
       "      <th>0</th>\n",
       "      <td>4680</td>\n",
       "      <td>2004-12-31</td>\n",
       "      <td>Jeopardy!</td>\n",
       "      <td>HISTORY</td>\n",
       "      <td>$200</td>\n",
       "      <td>For the last 8 years of his life, Galileo was ...</td>\n",
       "      <td>Copernicus</td>\n",
       "    </tr>\n",
       "    <tr>\n",
       "      <th>1</th>\n",
       "      <td>4680</td>\n",
       "      <td>2004-12-31</td>\n",
       "      <td>Jeopardy!</td>\n",
       "      <td>ESPN's TOP 10 ALL-TIME ATHLETES</td>\n",
       "      <td>$200</td>\n",
       "      <td>No. 2: 1912 Olympian; football star at Carlisl...</td>\n",
       "      <td>Jim Thorpe</td>\n",
       "    </tr>\n",
       "    <tr>\n",
       "      <th>2</th>\n",
       "      <td>4680</td>\n",
       "      <td>2004-12-31</td>\n",
       "      <td>Jeopardy!</td>\n",
       "      <td>EVERYBODY TALKS ABOUT IT...</td>\n",
       "      <td>$200</td>\n",
       "      <td>The city of Yuma in this state has a record av...</td>\n",
       "      <td>Arizona</td>\n",
       "    </tr>\n",
       "    <tr>\n",
       "      <th>3</th>\n",
       "      <td>4680</td>\n",
       "      <td>2004-12-31</td>\n",
       "      <td>Jeopardy!</td>\n",
       "      <td>THE COMPANY LINE</td>\n",
       "      <td>$200</td>\n",
       "      <td>In 1963, live on \"The Art Linkletter Show\", th...</td>\n",
       "      <td>McDonald's</td>\n",
       "    </tr>\n",
       "    <tr>\n",
       "      <th>4</th>\n",
       "      <td>4680</td>\n",
       "      <td>2004-12-31</td>\n",
       "      <td>Jeopardy!</td>\n",
       "      <td>EPITAPHS &amp; TRIBUTES</td>\n",
       "      <td>$200</td>\n",
       "      <td>Signer of the Dec. of Indep., framer of the Co...</td>\n",
       "      <td>John Adams</td>\n",
       "    </tr>\n",
       "  </tbody>\n",
       "</table>\n",
       "</div>"
      ],
      "text/plain": [
       "   Show Number    Air Date      Round                         Category  Value  \\\n",
       "0         4680  2004-12-31  Jeopardy!                          HISTORY   $200   \n",
       "1         4680  2004-12-31  Jeopardy!  ESPN's TOP 10 ALL-TIME ATHLETES   $200   \n",
       "2         4680  2004-12-31  Jeopardy!      EVERYBODY TALKS ABOUT IT...   $200   \n",
       "3         4680  2004-12-31  Jeopardy!                 THE COMPANY LINE   $200   \n",
       "4         4680  2004-12-31  Jeopardy!              EPITAPHS & TRIBUTES   $200   \n",
       "\n",
       "                                            Question      Answer  \n",
       "0  For the last 8 years of his life, Galileo was ...  Copernicus  \n",
       "1  No. 2: 1912 Olympian; football star at Carlisl...  Jim Thorpe  \n",
       "2  The city of Yuma in this state has a record av...     Arizona  \n",
       "3  In 1963, live on \"The Art Linkletter Show\", th...  McDonald's  \n",
       "4  Signer of the Dec. of Indep., framer of the Co...  John Adams  "
      ]
     },
     "execution_count": 1,
     "metadata": {},
     "output_type": "execute_result"
    }
   ],
   "source": [
    "import pandas as pd\n",
    "\n",
    "jeopardy = pd.read_csv('jeopardy.csv')\n",
    "\n",
    "# Print out the first five rows of jeopardy\n",
    "jeopardy.head()"
   ]
  },
  {
   "cell_type": "code",
   "execution_count": 2,
   "metadata": {},
   "outputs": [
    {
     "name": "stdout",
     "output_type": "stream",
     "text": [
      "Index(['Show Number', ' Air Date', ' Round', ' Category', ' Value',\n",
      "       ' Question', ' Answer'],\n",
      "      dtype='object')\n"
     ]
    }
   ],
   "source": [
    "# Examine the columns of jeopardy\n",
    "print(jeopardy.columns)"
   ]
  },
  {
   "cell_type": "code",
   "execution_count": 3,
   "metadata": {},
   "outputs": [
    {
     "name": "stdout",
     "output_type": "stream",
     "text": [
      "Index(['Show Number', 'Air Date', 'Round', 'Category', 'Value', 'Question',\n",
      "       'Answer'],\n",
      "      dtype='object')\n"
     ]
    }
   ],
   "source": [
    "# Remove the spaces in the column names\n",
    "jeopardy.columns = jeopardy.columns.str.strip()\n",
    "print(jeopardy.columns)"
   ]
  },
  {
   "cell_type": "markdown",
   "metadata": {},
   "source": [
    "We wish to normalize the text columns, particularly the Question and Answer columns. We also wish to normalize the Value column (convert to numeric, remove the dollar sign) and the Air Date column (convert to datetime)."
   ]
  },
  {
   "cell_type": "code",
   "execution_count": 13,
   "metadata": {},
   "outputs": [],
   "source": [
    "# Take in a string, convert string to lowercase, remove all punctuation, return string\n",
    "def normalizeText(jeopardy_string):\n",
    "    jeopardy_string = jeopardy_string.lower()\n",
    "    \n",
    "    punctuations = [\".\", \",\", \";\", \":\", \"\\'\", \"-\", \"_\", \"\\\"\", \"?\", \"!\", \"(\", \")\"]\n",
    "    \n",
    "    for punct in punctuations:\n",
    "        jeopardy_string = jeopardy_string.replace(punct, \"\")\n",
    "        \n",
    "    return jeopardy_string\n",
    "\n",
    "# Take in the dollar value, remove the dollar sign, return number\n",
    "\n",
    "def normalizeValue(jeopardy_string):\n",
    "    jeopardy_string = jeopardy_string.replace(\"$\", \"\")\n",
    "    jeopardy_string = jeopardy_string.replace(\",\", \"\")\n",
    "    \n",
    "    # Convert the string to an integer. If there is a conversion error, return 0\n",
    "    try:\n",
    "        return int(jeopardy_string)\n",
    "    except:\n",
    "        return 0"
   ]
  },
  {
   "cell_type": "code",
   "execution_count": 17,
   "metadata": {},
   "outputs": [
    {
     "data": {
      "text/html": [
       "<div>\n",
       "<style scoped>\n",
       "    .dataframe tbody tr th:only-of-type {\n",
       "        vertical-align: middle;\n",
       "    }\n",
       "\n",
       "    .dataframe tbody tr th {\n",
       "        vertical-align: top;\n",
       "    }\n",
       "\n",
       "    .dataframe thead th {\n",
       "        text-align: right;\n",
       "    }\n",
       "</style>\n",
       "<table border=\"1\" class=\"dataframe\">\n",
       "  <thead>\n",
       "    <tr style=\"text-align: right;\">\n",
       "      <th></th>\n",
       "      <th>Show Number</th>\n",
       "      <th>Air Date</th>\n",
       "      <th>Round</th>\n",
       "      <th>Category</th>\n",
       "      <th>Value</th>\n",
       "      <th>Question</th>\n",
       "      <th>Answer</th>\n",
       "      <th>clean_question</th>\n",
       "      <th>clean_answer</th>\n",
       "      <th>clean_value</th>\n",
       "    </tr>\n",
       "  </thead>\n",
       "  <tbody>\n",
       "    <tr>\n",
       "      <th>0</th>\n",
       "      <td>4680</td>\n",
       "      <td>2004-12-31</td>\n",
       "      <td>Jeopardy!</td>\n",
       "      <td>HISTORY</td>\n",
       "      <td>$200</td>\n",
       "      <td>For the last 8 years of his life, Galileo was ...</td>\n",
       "      <td>Copernicus</td>\n",
       "      <td>for the last 8 years of his life galileo was u...</td>\n",
       "      <td>copernicus</td>\n",
       "      <td>200</td>\n",
       "    </tr>\n",
       "    <tr>\n",
       "      <th>1</th>\n",
       "      <td>4680</td>\n",
       "      <td>2004-12-31</td>\n",
       "      <td>Jeopardy!</td>\n",
       "      <td>ESPN's TOP 10 ALL-TIME ATHLETES</td>\n",
       "      <td>$200</td>\n",
       "      <td>No. 2: 1912 Olympian; football star at Carlisl...</td>\n",
       "      <td>Jim Thorpe</td>\n",
       "      <td>no 2 1912 olympian football star at carlisle i...</td>\n",
       "      <td>jim thorpe</td>\n",
       "      <td>200</td>\n",
       "    </tr>\n",
       "    <tr>\n",
       "      <th>2</th>\n",
       "      <td>4680</td>\n",
       "      <td>2004-12-31</td>\n",
       "      <td>Jeopardy!</td>\n",
       "      <td>EVERYBODY TALKS ABOUT IT...</td>\n",
       "      <td>$200</td>\n",
       "      <td>The city of Yuma in this state has a record av...</td>\n",
       "      <td>Arizona</td>\n",
       "      <td>the city of yuma in this state has a record av...</td>\n",
       "      <td>arizona</td>\n",
       "      <td>200</td>\n",
       "    </tr>\n",
       "    <tr>\n",
       "      <th>3</th>\n",
       "      <td>4680</td>\n",
       "      <td>2004-12-31</td>\n",
       "      <td>Jeopardy!</td>\n",
       "      <td>THE COMPANY LINE</td>\n",
       "      <td>$200</td>\n",
       "      <td>In 1963, live on \"The Art Linkletter Show\", th...</td>\n",
       "      <td>McDonald's</td>\n",
       "      <td>in 1963 live on the art linkletter show this c...</td>\n",
       "      <td>mcdonalds</td>\n",
       "      <td>200</td>\n",
       "    </tr>\n",
       "    <tr>\n",
       "      <th>4</th>\n",
       "      <td>4680</td>\n",
       "      <td>2004-12-31</td>\n",
       "      <td>Jeopardy!</td>\n",
       "      <td>EPITAPHS &amp; TRIBUTES</td>\n",
       "      <td>$200</td>\n",
       "      <td>Signer of the Dec. of Indep., framer of the Co...</td>\n",
       "      <td>John Adams</td>\n",
       "      <td>signer of the dec of indep framer of the const...</td>\n",
       "      <td>john adams</td>\n",
       "      <td>200</td>\n",
       "    </tr>\n",
       "  </tbody>\n",
       "</table>\n",
       "</div>"
      ],
      "text/plain": [
       "   Show Number   Air Date      Round                         Category Value  \\\n",
       "0         4680 2004-12-31  Jeopardy!                          HISTORY  $200   \n",
       "1         4680 2004-12-31  Jeopardy!  ESPN's TOP 10 ALL-TIME ATHLETES  $200   \n",
       "2         4680 2004-12-31  Jeopardy!      EVERYBODY TALKS ABOUT IT...  $200   \n",
       "3         4680 2004-12-31  Jeopardy!                 THE COMPANY LINE  $200   \n",
       "4         4680 2004-12-31  Jeopardy!              EPITAPHS & TRIBUTES  $200   \n",
       "\n",
       "                                            Question      Answer  \\\n",
       "0  For the last 8 years of his life, Galileo was ...  Copernicus   \n",
       "1  No. 2: 1912 Olympian; football star at Carlisl...  Jim Thorpe   \n",
       "2  The city of Yuma in this state has a record av...     Arizona   \n",
       "3  In 1963, live on \"The Art Linkletter Show\", th...  McDonald's   \n",
       "4  Signer of the Dec. of Indep., framer of the Co...  John Adams   \n",
       "\n",
       "                                      clean_question clean_answer  clean_value  \n",
       "0  for the last 8 years of his life galileo was u...   copernicus          200  \n",
       "1  no 2 1912 olympian football star at carlisle i...   jim thorpe          200  \n",
       "2  the city of yuma in this state has a record av...      arizona          200  \n",
       "3  in 1963 live on the art linkletter show this c...    mcdonalds          200  \n",
       "4  signer of the dec of indep framer of the const...   john adams          200  "
      ]
     },
     "execution_count": 17,
     "metadata": {},
     "output_type": "execute_result"
    }
   ],
   "source": [
    "# Normalize the Question column - Result will be in the new clean_question column\n",
    "jeopardy['clean_question'] = jeopardy['Question'].apply(normalizeText)\n",
    "\n",
    "# Normalize the Answer column - Result will be in the new clean_answer column\n",
    "jeopardy['clean_answer'] = jeopardy['Answer'].apply(normalizeText)\n",
    "\n",
    "# Normalize the Value columns - Result will be in the new clean_value column\n",
    "jeopardy['clean_value'] = jeopardy['Value'].apply(normalizeValue)\n",
    "\n",
    "# Convert the Air Date column to a datetime column\n",
    "jeopardy['Air Date'] = pd.to_datetime(jeopardy['Air Date'], format = '%Y-%m-%d')\n",
    "\n",
    "jeopardy.head()"
   ]
  },
  {
   "cell_type": "markdown",
   "metadata": {},
   "source": [
    "# Extracting Answers and Repeats from Questions\n",
    "If we want to prepare for Jeopardy, we want to know if it is worth studying past questions or general knowledge, or if we are better off not studying at all. We want to figure out:\n",
    "- How often the answer is deucible from the question\n",
    "- How often new questions are repeats of older questions\n",
    "\n",
    "For the first question, we can examine how many times words in the answer also occur in the question. For the second question, we can see how often complex words (> 6 characters) reoccur."
   ]
  },
  {
   "cell_type": "code",
   "execution_count": 20,
   "metadata": {},
   "outputs": [],
   "source": [
    "# See how often words in the answer also appear in the question\n",
    "def answer_in_question(jeopardy_row):\n",
    "    # Split the clean_answer and clean_question columns objects into lists of strings\n",
    "    split_answer = jeopardy_row['clean_answer'].split()\n",
    "    split_question = jeopardy_row['clean_question'].split()\n",
    "    \n",
    "    # Count number of matches between answer and question strings\n",
    "    match_count = 0\n",
    "    if \"the\" in split_answer:\n",
    "        split_answer.remove(\"the\")        # \"the\" is common, but there is no meaningful use\n",
    "    \n",
    "    if len(split_answer) == 0:\n",
    "        return 0        # Prevents a division by zero error\n",
    "    \n",
    "    else:\n",
    "        # Loop through each item in split_answer and see if it occurs in split_question\n",
    "        for item in split_answer:\n",
    "            if item in split_question:\n",
    "                match_count += 1\n",
    "                \n",
    "        return match_count / float(len(split_answer))"
   ]
  },
  {
   "cell_type": "code",
   "execution_count": 23,
   "metadata": {},
   "outputs": [
    {
     "name": "stdout",
     "output_type": "stream",
     "text": [
      "0.05860143628782072\n"
     ]
    }
   ],
   "source": [
    "# Count how many times terms in clean_answer occur in clean_question by applying our function on each row in jeopardy\n",
    "# These numbers will be written into the new answer_in_question column\n",
    "\n",
    "jeopardy['answer_in_question'] = jeopardy.apply(answer_in_question, axis = 1)\n",
    "\n",
    "# Get average of the number of times terms in the answer occur in the question\n",
    "mean_answer_in_question = jeopardy['answer_in_question'].mean()\n",
    "print(mean_answer_in_question)"
   ]
  },
  {
   "cell_type": "markdown",
   "metadata": {},
   "source": [
    "Only 5.8% of the 20,000 answers in the jeopardy dataset have terms that are also found in the corresponding questions. If we want to study for Jeopardy, it would not be fruitful to prepare by seeking the answers in the questions, considering how this occurs rarely.\n",
    "\n",
    "To answer the second question, we stated that we can see how often complex words (>6 characters) reoccur. To do this, we will be counting reoccurring terms through a jeopardy DataFrame that is sorted by ascending air date. We will be looking at words with more than 6 characters as this allows us to filter out words like \"the\" and \"then\", which are commonly used, but do not tell us a lot about a question."
   ]
  },
  {
   "cell_type": "code",
   "execution_count": 30,
   "metadata": {},
   "outputs": [
    {
     "name": "stdout",
     "output_type": "stream",
     "text": [
      "0.8023190764775775\n"
     ]
    }
   ],
   "source": [
    "# We will be keeping track of what complex terms in questions get reused\n",
    "# and how often complex terms in questions get reused, indicative of recycled questions\n",
    "question_overlap = []\n",
    "terms_used = set()\n",
    "\n",
    "# The jeopardy dataset is already ordered by Air Date in ascending order\n",
    "for index, row in jeopardy.iterrows():\n",
    "    # Convert the clean_question into a list of strings\n",
    "    split_question = row['clean_question'].split()\n",
    "    \n",
    "    # Remove any words in split_question that are less than 6 characters long\n",
    "    split_question_duplicate = split_question\n",
    "    \n",
    "    for word in split_question_duplicate:\n",
    "        if len(word) < 6:\n",
    "            split_question.remove(word)\n",
    "    \n",
    "    # Loop through each word in split_question, keeping track of matches\n",
    "    # Add complex terms to terms_used. Unique terms will be added, repeated ones won't add to set\n",
    "    # Return a probability for the given question\n",
    "    match_count = 0\n",
    "    \n",
    "    for word in split_question:\n",
    "        if word in terms_used:\n",
    "            match_count += 1\n",
    "            \n",
    "        terms_used.add(word)\n",
    "        \n",
    "    if len(split_question) > 0:\n",
    "        match_count /= float(len(split_question))\n",
    "        question_overlap.append(match_count)\n",
    "            \n",
    "    else:\n",
    "        question_overlap.append(0)\n",
    "            \n",
    "jeopardy['question_overlap'] = question_overlap\n",
    "\n",
    "print(jeopardy['question_overlap'].mean())"
   ]
  },
  {
   "cell_type": "markdown",
   "metadata": {},
   "source": [
    "It appears that with time, 80% of the words in a given question were used in a previous question. It means that present and future questions are likely going to have words that have appeared in previous questions. That said, there is no guarantee that the subject of the question will be the same as past questions, as we only looked at matches in words, not phrases. That said, this may still indicate that certain _ideas_ may still be repeated in Jeopardy questions."
   ]
  },
  {
   "cell_type": "markdown",
   "metadata": {},
   "source": [
    "## Repetition in High Value Questions\n",
    "Let's say we only want to study questions that pertain to high-value questions instead of low-value questions, as this may help us earn more money when we're on Jeopardy. We can figure out which terms correspond to high-value questions using a chi-squared test. We have defined the dollar amount that divides low-value questions from high-value questions to be $800."
   ]
  },
  {
   "cell_type": "code",
   "execution_count": 32,
   "metadata": {},
   "outputs": [],
   "source": [
    "# Classify a question as high value (above $800) or low value\n",
    "def highValueQuestion(jeopardy_row):\n",
    "    if jeopardy_row['clean_value'] > 800:\n",
    "        value = 1\n",
    "    else:\n",
    "        value = 0\n",
    "    \n",
    "    return value\n",
    "\n",
    "jeopardy['high_value'] = jeopardy.apply(highValueQuestion, axis = 1)"
   ]
  },
  {
   "cell_type": "code",
   "execution_count": 33,
   "metadata": {},
   "outputs": [
    {
     "data": {
      "text/plain": [
       "[[4, 3], [0, 1], [41, 111], [0, 1], [0, 1]]"
      ]
     },
     "execution_count": 33,
     "metadata": {},
     "output_type": "execute_result"
    }
   ],
   "source": [
    "# This function takes in a word. We look through the jeopardy dataset to see how many times\n",
    "# the word appears in a high-value question and how many times it appears in a low-value question\n",
    "def count_high_low(word):\n",
    "    low_count = 0\n",
    "    high_count = 0\n",
    "    \n",
    "    # Loop through each row in jeopardy to count how often the words appears in high/low-value question\n",
    "    for index, row in jeopardy.iterrows():\n",
    "        split_question = row['clean_question'].split()\n",
    "        \n",
    "        if word in split_question:\n",
    "            if row['high_value'] == 1:\n",
    "                high_count += 1\n",
    "            else:\n",
    "                low_count += 1\n",
    "                \n",
    "    return high_count, low_count\n",
    "\n",
    "# Create a list of observed high/low counts for each word\n",
    "observed_expected = []\n",
    "\n",
    "# Convert the sets to a list. We will look at the first five words (looking at all words would take too much time)\n",
    "terms_used = list(terms_used)\n",
    "comparison_terms = terms_used[:5]\n",
    "\n",
    "for term in comparison_terms:\n",
    "    high, low = count_high_low(term)\n",
    "    observed_expected.append([high, low])\n",
    "    \n",
    "observed_expected"
   ]
  },
  {
   "cell_type": "markdown",
   "metadata": {},
   "source": [
    "We have found the observed counts for the first five terms. We now want to compute the expected counts and the chi-squared value."
   ]
  },
  {
   "cell_type": "code",
   "execution_count": 35,
   "metadata": {},
   "outputs": [
    {
     "name": "stdout",
     "output_type": "stream",
     "text": [
      "[2.774619927181822, 0.09576938744167536]\n",
      "[0.401962846126884, 0.5260772985705469]\n",
      "[0.21422879036359924, 0.6434729205350347]\n",
      "[0.401962846126884, 0.5260772985705469]\n",
      "[0.401962846126884, 0.5260772985705469]\n"
     ]
    }
   ],
   "source": [
    "from scipy.stats import chisquare\n",
    "\n",
    "high_value_count = jeopardy[jeopardy['high_value'] == 1].shape[0]\n",
    "low_value_count = jeopardy[jeopardy['high_value'] == 0].shape[0]\n",
    "\n",
    "chi_squared = []\n",
    "\n",
    "for term in observed_expected:\n",
    "    total = sum(term)\n",
    "    \n",
    "    total_prop = total / float(jeopardy.shape[0])\n",
    "    \n",
    "    expected_high = total_prop * high_value_count\n",
    "    expected_low = total_prop * low_value_count\n",
    "    \n",
    "    chi, p_value = chisquare(term, [expected_high, expected_low])\n",
    "    \n",
    "    chi_squared.append([chi, p_value])\n",
    "    \n",
    "for term in chi_squared:\n",
    "    print(term)"
   ]
  },
  {
   "cell_type": "code",
   "execution_count": null,
   "metadata": {},
   "outputs": [],
   "source": []
  },
  {
   "cell_type": "markdown",
   "metadata": {},
   "source": [
    "Here are some potential next steps:\n",
    "\n",
    "- Find a better way to eliminate non-informative words than just removing words that are less than 6 characters long. Some ideas:\n",
    "    - Manually create a list of words to remove, like the, than, etc.\n",
    "    - Find a list of stopwords to remove.\n",
    "    - Remove words that occur in more than a certain percentage (like 5%) of questions.\n",
    "- Perform the chi-squared test across more terms to see what terms have larger differences. This is hard to do currently because the code is slow, but here are some ideas:\n",
    "    - Use the apply method to make the code that calculates frequencies more efficient.\n",
    "    - Only select terms that have high frequencies across the dataset, and ignore the others.\n",
    "- Look more into the Category column and see if any interesting analysis can be done with it. Some ideas:\n",
    "    - See which categories appear the most often.\n",
    "    - Find the probability of each category appearing in each round.\n",
    "- Use the whole Jeopardy dataset (available here) instead of the subset we used in this mission.\n",
    "- Use phrases instead of single words when seeing if there's overlap between questions. Single words don't capture the whole context of the question well.\n",
    "We recommend creating a Github repository and placing this project there. It will help other people, including employers, see your work. As you start to put multiple projects on Github, you'll have the beginnings of a strong portfolio.\n",
    "\n",
    "You're welcome to keep working on the project here, but we recommend downloading it to your computer using the download icon above and working on it there."
   ]
  },
  {
   "cell_type": "code",
   "execution_count": null,
   "metadata": {},
   "outputs": [],
   "source": []
  }
 ],
 "metadata": {
  "kernelspec": {
   "display_name": "Python 3",
   "language": "python",
   "name": "python3"
  },
  "language_info": {
   "codemirror_mode": {
    "name": "ipython",
    "version": 3
   },
   "file_extension": ".py",
   "mimetype": "text/x-python",
   "name": "python",
   "nbconvert_exporter": "python",
   "pygments_lexer": "ipython3",
   "version": "3.6.5"
  }
 },
 "nbformat": 4,
 "nbformat_minor": 1
}
